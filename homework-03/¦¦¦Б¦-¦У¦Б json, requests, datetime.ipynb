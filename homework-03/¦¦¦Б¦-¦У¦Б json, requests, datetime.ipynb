{
 "cells": [
  {
   "cell_type": "code",
   "execution_count": 1,
   "id": "a308846a",
   "metadata": {},
   "outputs": [],
   "source": [
    "import json"
   ]
  },
  {
   "cell_type": "code",
   "execution_count": 5,
   "id": "7b80e170",
   "metadata": {},
   "outputs": [
    {
     "data": {
      "text/plain": [
       "'{\"name\": \"Sacha\", \"text\": \"wdfwgr\", \"time\": 34567389}'"
      ]
     },
     "execution_count": 5,
     "metadata": {},
     "output_type": "execute_result"
    }
   ],
   "source": [
    "message = {\n",
    "    'name': 'Sacha',\n",
    "    'text': 'wdfwgr',\n",
    "    'time': 34567389\n",
    "}\n",
    "s = json.dumps(message)\n",
    "s"
   ]
  },
  {
   "cell_type": "code",
   "execution_count": 7,
   "id": "bac4dfa4",
   "metadata": {},
   "outputs": [
    {
     "data": {
      "text/plain": [
       "{'name': 'Sacha', 'text': 'wdfwgr', 'time': 34567389}"
      ]
     },
     "execution_count": 7,
     "metadata": {},
     "output_type": "execute_result"
    }
   ],
   "source": [
    "json.loads(s)"
   ]
  },
  {
   "cell_type": "code",
   "execution_count": 8,
   "id": "e4df6f77",
   "metadata": {},
   "outputs": [],
   "source": [
    "import requests\n",
    "url = 'https://api.openweathermap.org/data/2.5/weather?lat=40,7143&lon=-74,006&appid=8537d9ef6386cb97156fd47d832f479c&units=metric'\n",
    "response = requests.get(url)"
   ]
  },
  {
   "cell_type": "code",
   "execution_count": 9,
   "id": "690014a4",
   "metadata": {},
   "outputs": [
    {
     "data": {
      "text/plain": [
       "200"
      ]
     },
     "execution_count": 9,
     "metadata": {},
     "output_type": "execute_result"
    }
   ],
   "source": [
    "response.status_code"
   ]
  },
  {
   "cell_type": "code",
   "execution_count": 10,
   "id": "f797ca8d",
   "metadata": {},
   "outputs": [
    {
     "data": {
      "text/plain": [
       "'{\"coord\":{\"lon\":-74.006,\"lat\":40.7144},\"weather\":[{\"id\":803,\"main\":\"Clouds\",\"description\":\"broken clouds\",\"icon\":\"04n\"}],\"base\":\"stations\",\"main\":{\"temp\":0.85,\"feels_like\":-2.08,\"temp_min\":-3.08,\"temp_max\":2.76,\"pressure\":1023,\"humidity\":72},\"visibility\":10000,\"wind\":{\"speed\":2.57,\"deg\":170},\"clouds\":{\"all\":75},\"dt\":1708586678,\"sys\":{\"type\":1,\"id\":4610,\"country\":\"US\",\"sunrise\":1708602079,\"sunset\":1708641490},\"timezone\":-18000,\"id\":5128581,\"name\":\"New York\",\"cod\":200}'"
      ]
     },
     "execution_count": 10,
     "metadata": {},
     "output_type": "execute_result"
    }
   ],
   "source": [
    "response.text"
   ]
  },
  {
   "cell_type": "code",
   "execution_count": 12,
   "id": "bec3b7eb",
   "metadata": {},
   "outputs": [
    {
     "data": {
      "text/plain": [
       "{'coord': {'lon': -74.006, 'lat': 40.7144},\n",
       " 'weather': [{'id': 803,\n",
       "   'main': 'Clouds',\n",
       "   'description': 'broken clouds',\n",
       "   'icon': '04n'}],\n",
       " 'base': 'stations',\n",
       " 'main': {'temp': 0.85,\n",
       "  'feels_like': -2.08,\n",
       "  'temp_min': -3.08,\n",
       "  'temp_max': 2.76,\n",
       "  'pressure': 1023,\n",
       "  'humidity': 72},\n",
       " 'visibility': 10000,\n",
       " 'wind': {'speed': 2.57, 'deg': 170},\n",
       " 'clouds': {'all': 75},\n",
       " 'dt': 1708586678,\n",
       " 'sys': {'type': 1,\n",
       "  'id': 4610,\n",
       "  'country': 'US',\n",
       "  'sunrise': 1708602079,\n",
       "  'sunset': 1708641490},\n",
       " 'timezone': -18000,\n",
       " 'id': 5128581,\n",
       " 'name': 'New York',\n",
       " 'cod': 200}"
      ]
     },
     "execution_count": 12,
     "metadata": {},
     "output_type": "execute_result"
    }
   ],
   "source": [
    "response.json()"
   ]
  },
  {
   "cell_type": "code",
   "execution_count": 13,
   "id": "062d1e76",
   "metadata": {},
   "outputs": [],
   "source": [
    "url = 'https://api.openweathermap.org/data/2.5/weather?lat=55,7522&lon=37,6166&appid=8537d9ef6386cb97156fd47d832f479c&units=metric'\n",
    "response = requests.get(url)"
   ]
  },
  {
   "cell_type": "code",
   "execution_count": 14,
   "id": "0d0c7ae9",
   "metadata": {},
   "outputs": [
    {
     "data": {
      "text/plain": [
       "200"
      ]
     },
     "execution_count": 14,
     "metadata": {},
     "output_type": "execute_result"
    }
   ],
   "source": [
    "response.status_code"
   ]
  },
  {
   "cell_type": "code",
   "execution_count": 15,
   "id": "50d0d1e5",
   "metadata": {},
   "outputs": [
    {
     "data": {
      "text/plain": [
       "{'coord': {'lon': 37.6171, 'lat': 55.7483},\n",
       " 'weather': [{'id': 804,\n",
       "   'main': 'Clouds',\n",
       "   'description': 'overcast clouds',\n",
       "   'icon': '04d'}],\n",
       " 'base': 'stations',\n",
       " 'main': {'temp': -4.15,\n",
       "  'feels_like': -9.38,\n",
       "  'temp_min': -4.95,\n",
       "  'temp_max': -3.66,\n",
       "  'pressure': 1021,\n",
       "  'humidity': 94,\n",
       "  'sea_level': 1021,\n",
       "  'grnd_level': 1003},\n",
       " 'visibility': 1870,\n",
       " 'wind': {'speed': 4, 'deg': 160, 'gust': 7.56},\n",
       " 'clouds': {'all': 97},\n",
       " 'dt': 1708587078,\n",
       " 'sys': {'type': 1,\n",
       "  'id': 9029,\n",
       "  'country': 'RU',\n",
       "  'sunrise': 1708576792,\n",
       "  'sunset': 1708613203},\n",
       " 'timezone': 10800,\n",
       " 'id': 524901,\n",
       " 'name': 'Moscow',\n",
       " 'cod': 200}"
      ]
     },
     "execution_count": 15,
     "metadata": {},
     "output_type": "execute_result"
    }
   ],
   "source": [
    "response.json()"
   ]
  },
  {
   "cell_type": "code",
   "execution_count": 16,
   "id": "7419b0ab",
   "metadata": {},
   "outputs": [],
   "source": [
    "import time"
   ]
  },
  {
   "cell_type": "code",
   "execution_count": 21,
   "id": "ab12334d",
   "metadata": {},
   "outputs": [
    {
     "data": {
      "text/plain": [
       "1708588265.6097376"
      ]
     },
     "execution_count": 21,
     "metadata": {},
     "output_type": "execute_result"
    }
   ],
   "source": [
    "time.time()"
   ]
  },
  {
   "cell_type": "code",
   "execution_count": 25,
   "id": "b6206831",
   "metadata": {},
   "outputs": [
    {
     "name": "stdout",
     "output_type": "stream",
     "text": [
      "2024-02-22 10:53:07\n"
     ]
    }
   ],
   "source": [
    "from datetime import datetime\n",
    "t = time.time()\n",
    "dt = datetime.fromtimestamp(t)\n",
    "print(dt.strftime('%Y-%m-%d %H:%M:%S'))"
   ]
  },
  {
   "cell_type": "code",
   "execution_count": 23,
   "id": "5efd0893",
   "metadata": {},
   "outputs": [
    {
     "data": {
      "text/plain": [
       "datetime.datetime(2024, 2, 22, 10, 51, 6, 553941)"
      ]
     },
     "execution_count": 23,
     "metadata": {},
     "output_type": "execute_result"
    }
   ],
   "source": [
    "dt"
   ]
  }
 ],
 "metadata": {
  "kernelspec": {
   "display_name": "Python 3 (ipykernel)",
   "language": "python",
   "name": "python3"
  },
  "language_info": {
   "codemirror_mode": {
    "name": "ipython",
    "version": 3
   },
   "file_extension": ".py",
   "mimetype": "text/x-python",
   "name": "python",
   "nbconvert_exporter": "python",
   "pygments_lexer": "ipython3",
   "version": "3.10.11"
  }
 },
 "nbformat": 4,
 "nbformat_minor": 5
}
