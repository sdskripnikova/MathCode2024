{
 "cells": [
  {
   "cell_type": "code",
   "execution_count": 3,
   "id": "733d720b",
   "metadata": {},
   "outputs": [
    {
     "data": {
      "text/plain": [
       "array([[[156, 146, 137],\n",
       "        [156, 146, 137],\n",
       "        [157, 147, 138],\n",
       "        ...,\n",
       "        [167, 160, 154],\n",
       "        [167, 160, 154],\n",
       "        [167, 160, 154]],\n",
       "\n",
       "       [[156, 146, 137],\n",
       "        [156, 146, 137],\n",
       "        [157, 147, 138],\n",
       "        ...,\n",
       "        [167, 160, 154],\n",
       "        [167, 160, 154],\n",
       "        [167, 160, 154]],\n",
       "\n",
       "       [[157, 147, 137],\n",
       "        [157, 147, 137],\n",
       "        [157, 147, 137],\n",
       "        ...,\n",
       "        [167, 160, 154],\n",
       "        [167, 160, 154],\n",
       "        [167, 160, 154]],\n",
       "\n",
       "       ...,\n",
       "\n",
       "       [[148, 129, 114],\n",
       "        [148, 129, 114],\n",
       "        [148, 129, 114],\n",
       "        ...,\n",
       "        [171, 165, 165],\n",
       "        [171, 165, 165],\n",
       "        [171, 165, 165]],\n",
       "\n",
       "       [[148, 129, 114],\n",
       "        [148, 129, 114],\n",
       "        [148, 129, 114],\n",
       "        ...,\n",
       "        [173, 164, 165],\n",
       "        [173, 164, 165],\n",
       "        [173, 164, 165]],\n",
       "\n",
       "       [[147, 128, 114],\n",
       "        [147, 128, 114],\n",
       "        [148, 129, 115],\n",
       "        ...,\n",
       "        [171, 165, 165],\n",
       "        [171, 165, 165],\n",
       "        [171, 165, 165]]], dtype=uint8)"
      ]
     },
     "execution_count": 3,
     "metadata": {},
     "output_type": "execute_result"
    }
   ],
   "source": [
    "import numpy as np \n",
    "from PIL import Image\n",
    "\n",
    "# Преобразование из PIL в Numpy Array \n",
    "img = Image.open('me_before.jpg') \n",
    "x = np.array(img) \n",
    "x"
   ]
  },
  {
   "cell_type": "code",
   "execution_count": 4,
   "id": "755e250a",
   "metadata": {},
   "outputs": [],
   "source": [
    "# Создание функции для сжатия картинки \n",
    "def reduce_rank(U, S, Vt, r): \n",
    "    y_r = U[:, :r] @ np.diag(S[:r]) @ Vt[:r, :] \n",
    "    y_r[y_r > 255] = 255 \n",
    "    y_r[y_r < 0] = 0 \n",
    "    img_y_r = np.asarray(y_r, dtype=np.uint8) \n",
    "    return img_y_r "
   ]
  },
  {
   "cell_type": "code",
   "execution_count": 7,
   "id": "219529d9",
   "metadata": {},
   "outputs": [],
   "source": [
    "for r in r_values: \n",
    "  U, S, Vt = np.linalg.svd(x[:, :, 0], full_matrices=False) \n",
    "  img_y_red = reduce_rank(U, S, Vt, r) \n",
    " \n",
    "  U, S, Vt = np.linalg.svd(x[:, :, 1], full_matrices=False) \n",
    "  img_y_green = reduce_rank(U, S, Vt, r) \n",
    " \n",
    "  U, S, Vt = np.linalg.svd(x[:, :, 2], full_matrices=False) \n",
    "  img_y_blue = reduce_rank(U, S, Vt, r) \n",
    " \n",
    "  y = np.concatenate( \n",
    "    (img_y_red[:, :, np.newaxis], img_y_green[:, :, np.newaxis], img_y_blue[:, :, np.newaxis]), axis=2) \n",
    " \n",
    "  Image.fromarray(y).save(f'{r}me_after.jpg')"
   ]
  },
  {
   "cell_type": "code",
   "execution_count": null,
   "id": "e72a46d2",
   "metadata": {},
   "outputs": [],
   "source": []
  }
 ],
 "metadata": {
  "kernelspec": {
   "display_name": "Python 3 (ipykernel)",
   "language": "python",
   "name": "python3"
  },
  "language_info": {
   "codemirror_mode": {
    "name": "ipython",
    "version": 3
   },
   "file_extension": ".py",
   "mimetype": "text/x-python",
   "name": "python",
   "nbconvert_exporter": "python",
   "pygments_lexer": "ipython3",
   "version": "3.11.5"
  }
 },
 "nbformat": 4,
 "nbformat_minor": 5
}
