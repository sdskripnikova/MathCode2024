{
 "cells": [
  {
   "cell_type": "markdown",
   "id": "0e6c3b9c",
   "metadata": {},
   "source": [
    "# Выполнила: Скрипникова София, Нммбд-01-22"
   ]
  },
  {
   "cell_type": "markdown",
   "id": "7e526c4e",
   "metadata": {},
   "source": [
    "### Для начала задаю все способы сортировки, чтобы дальше их использовать"
   ]
  },
  {
   "cell_type": "code",
   "execution_count": 2,
   "id": "542ad99b",
   "metadata": {},
   "outputs": [],
   "source": [
    "def LinearSearch(nums, val):\n",
    "    for i in range(len(nums)):\n",
    "        if nums[i] == val:\n",
    "            return i\n",
    "    return -1\n",
    "\n",
    "def BinarySearch(nums, val):\n",
    "    first = 0\n",
    "    last = len(nums)-1\n",
    "    index = -1\n",
    "    while (first <= last) and (index == -1):\n",
    "        mid = (first+last)//2\n",
    "        if nums[mid] == val:\n",
    "            index = mid\n",
    "        else:\n",
    "            if val<nums[mid]:\n",
    "                last = mid -1\n",
    "            else:\n",
    "                first = mid +1\n",
    "    return index\n",
    "\n",
    "def JumpSearch(nums, val):\n",
    "    length = len(nums)\n",
    "    jump = int(length**0.5)\n",
    "    left, right = 0, 0\n",
    "    while left < length and nums[left] <= val:\n",
    "        right = min(length - 1, left + jump)\n",
    "        if nums[left] <= val and nums[right] >= val:\n",
    "            break\n",
    "        left += jump;\n",
    "    if left >= length or nums[left] > val:\n",
    "        return -1\n",
    "    right = min(length - 1, right)\n",
    "    i = left\n",
    "    while i <= right and nums[i] <= val:\n",
    "        if nums[i] == val:\n",
    "            return i\n",
    "        i += 1\n",
    "    return -1\n",
    "\n",
    "def FibonacciSearch(nums, val):\n",
    "    fibM_minus_2 = 0\n",
    "    fibM_minus_1 = 1\n",
    "    fibM = fibM_minus_1 + fibM_minus_2\n",
    "    while (fibM < len(nums)):\n",
    "        fibM_minus_2 = fibM_minus_1\n",
    "        fibM_minus_1 = fibM\n",
    "        fibM = fibM_minus_1 + fibM_minus_2\n",
    "    index = -1;\n",
    "    while (fibM > 1):\n",
    "        i = min(index + fibM_minus_2, (len(nums)-1))\n",
    "        if (nums[i] < val):\n",
    "            fibM = fibM_minus_1\n",
    "            fibM_minus_1 = fibM_minus_2\n",
    "            fibM_minus_2 = fibM - fibM_minus_1\n",
    "            index = i\n",
    "        elif (nums[i] > val):\n",
    "            fibM = fibM_minus_2\n",
    "            fibM_minus_1 = fibM_minus_1 - fibM_minus_2\n",
    "            fibM_minus_2 = fibM - fibM_minus_1\n",
    "        else :\n",
    "            return i\n",
    "    if(fibM_minus_1 and index < (len(nums)-1) and nums[index+1] == val):\n",
    "        return index+1;\n",
    "    return -1\n",
    "\n",
    "def ExponentialSearch(nums, val):\n",
    "    if nums[0] == val:\n",
    "        return 0\n",
    "    index = 1\n",
    "    while index < len(nums) and nums[index] <= val:\n",
    "        prev_index = index\n",
    "        index = index * 2\n",
    "    return BinarySearch(nums[:min(index, len(nums))], val)\n",
    "\n",
    "def InterpolationSearch(nums, val):\n",
    "    low = 0\n",
    "    high = (len(nums) - 1)\n",
    "    while low <= high and val >= nums[low] and val <= nums[high]:\n",
    "        index = low + int(((float(high - low) / ( nums[high] - nums[low])) * ( val - nums[low])))\n",
    "        if nums[index] == val:\n",
    "            return index\n",
    "        if nums[index] < val:\n",
    "            low = index + 1;\n",
    "        else:\n",
    "            high = index - 1;\n",
    "    return -1"
   ]
  },
  {
   "cell_type": "code",
   "execution_count": 3,
   "id": "459054dd",
   "metadata": {},
   "outputs": [
    {
     "name": "stdout",
     "output_type": "stream",
     "text": [
      "[975, 185, 834, 364, 556, 644, 530, 823, 454, 16, 205, 987, 65, 795, 797, 84, 395, 606, 997, 102, 470, 134, 293, 535, 420, 821, 295, 321, 681, 228, 327, 897, 78, 473, 682, 992, 729, 691, 513, 810, 541, 201, 293, 746, 76, 612, 833, 824, 307, 232, 245, 163, 775, 375, 757, 506, 641, 740, 264, 189, 945, 89, 257, 645, 267, 511, 836, 853, 808, 618, 633, 71, 419, 764, 309, 74, 887, 689, 613, 385, 340, 644, 342, 132, 238, 746, 140, 240, 718, 468, 756, 863, 455, 485, 456, 865, 247, 669, 588, 376]\n"
     ]
    }
   ],
   "source": [
    "# Задание массива\n",
    "import random \n",
    "from random import randint\n",
    "a = [] \n",
    "for i in range(100):\n",
    "    a.append(randint(1,1000))\n",
    "print(a)"
   ]
  },
  {
   "cell_type": "code",
   "execution_count": 42,
   "id": "9d35e779",
   "metadata": {},
   "outputs": [
    {
     "name": "stdout",
     "output_type": "stream",
     "text": [
      "0.0009984970092773438\n"
     ]
    }
   ],
   "source": [
    "# Подсчет времени для каждого способа\n",
    "import time\n",
    "start_time=time.time()\n",
    "LinearSearch(a,644)\n",
    "\n",
    "end_time=time.time() - start_time\n",
    "print(end_time)"
   ]
  },
  {
   "cell_type": "code",
   "execution_count": 46,
   "id": "95ee4b9d",
   "metadata": {},
   "outputs": [
    {
     "name": "stdout",
     "output_type": "stream",
     "text": [
      "0.0010573863983154297\n"
     ]
    }
   ],
   "source": [
    "def buble_sort(a):\n",
    "    for i in range(0,len(a)-1): \n",
    "        for j in range(len(a)-1): \n",
    "            if(a[j]>a[j+1]): \n",
    "                l = a[j] \n",
    "                a[j] = a[j+1] \n",
    "                a[j+1] = l \n",
    "    return a\n",
    "buble_sort(a)\n",
    "\n",
    "import time\n",
    "start_time=time.time()\n",
    "BinarySearch(a,78)\n",
    "\n",
    "\n",
    "end_time=time.time() - start_time\n",
    "print(end_time)"
   ]
  },
  {
   "cell_type": "code",
   "execution_count": 47,
   "id": "2e778173",
   "metadata": {},
   "outputs": [
    {
     "name": "stdout",
     "output_type": "stream",
     "text": [
      "0.0003745555877685547\n"
     ]
    }
   ],
   "source": [
    "start_time=time.time()\n",
    "JumpSearch(a,78)\n",
    "end_time=time.time() - start_time\n",
    "print(end_time)"
   ]
  },
  {
   "cell_type": "code",
   "execution_count": 48,
   "id": "2ee8d641",
   "metadata": {},
   "outputs": [
    {
     "name": "stdout",
     "output_type": "stream",
     "text": [
      "0.0009970664978027344\n"
     ]
    }
   ],
   "source": [
    "start_time=time.time()\n",
    "FibonacciSearch(a,78)\n",
    "\n",
    "end_time=time.time() - start_time\n",
    "print(end_time)"
   ]
  },
  {
   "cell_type": "code",
   "execution_count": 51,
   "id": "7021dc77",
   "metadata": {},
   "outputs": [
    {
     "name": "stdout",
     "output_type": "stream",
     "text": [
      "0.0009202957153320312\n"
     ]
    }
   ],
   "source": [
    "start_time=time.time()\n",
    "ExponentialSearch(a,78)\n",
    "\n",
    "end_time=time.time() - start_time\n",
    "print(end_time)"
   ]
  },
  {
   "cell_type": "code",
   "execution_count": 54,
   "id": "ed100105",
   "metadata": {},
   "outputs": [
    {
     "name": "stdout",
     "output_type": "stream",
     "text": [
      "0.0008642673492431641\n"
     ]
    }
   ],
   "source": [
    "start_time=time.time()\n",
    "InterpolationSearch(a,78)\n",
    "\n",
    "end_time=time.time() - start_time\n",
    "print(end_time)"
   ]
  },
  {
   "cell_type": "markdown",
   "id": "431c1241",
   "metadata": {},
   "source": [
    "#### Наименьшее время - джамп, наибольшее - бинарный"
   ]
  },
  {
   "cell_type": "markdown",
   "id": "36026cd3",
   "metadata": {},
   "source": [
    "### Задача 2"
   ]
  },
  {
   "cell_type": "code",
   "execution_count": 56,
   "id": "8e31740d",
   "metadata": {},
   "outputs": [
    {
     "name": "stdout",
     "output_type": "stream",
     "text": [
      "[16, 65, 71, 74, 76, 78, 84, 89, 102, 132, 134, 140, 163, 185, 189, 201, 205, 228, 232, 238, 240, 245, 247, 257, 264, 267, 293, 293, 295, 307, 309, 321, 327, 340, 342, 364, 375, 376, 385, 395, 419, 420, 454, 455, 456, 468, 470, 473, 485, 506, 511, 513, 530, 535, 541, 556, 588, 606, 612, 613, 618, 633, 641, 644, 644, 645, 669, 681, 682, 689, 691, 718, 729, 740, 746, 746, 756, 757, 764, 775, 795, 797, 808, 810, 821, 823, 824, 833, 834, 836, 853, 863, 865, 887, 897, 945, 975, 987, 992, 997]\n"
     ]
    }
   ],
   "source": [
    "print(a)"
   ]
  },
  {
   "cell_type": "code",
   "execution_count": 71,
   "id": "13d0d041",
   "metadata": {},
   "outputs": [
    {
     "name": "stdout",
     "output_type": "stream",
     "text": [
      "0.0007610321044921875\n"
     ]
    }
   ],
   "source": [
    "# Использование поисков для нахождения значения в конце\n",
    "start_time=time.time()\n",
    "LinearSearch(a,945)\n",
    "\n",
    "\n",
    "end_time=time.time() - start_time\n",
    "print(end_time)"
   ]
  },
  {
   "cell_type": "code",
   "execution_count": 73,
   "id": "013c82b8",
   "metadata": {},
   "outputs": [
    {
     "name": "stdout",
     "output_type": "stream",
     "text": [
      "0.0009975433349609375\n"
     ]
    }
   ],
   "source": [
    "start_time=time.time()\n",
    "BinarySearch(a,945)\n",
    "\n",
    "\n",
    "end_time=time.time() - start_time\n",
    "print(end_time)"
   ]
  },
  {
   "cell_type": "code",
   "execution_count": 74,
   "id": "3ab554fa",
   "metadata": {},
   "outputs": [
    {
     "name": "stdout",
     "output_type": "stream",
     "text": [
      "0.0009071826934814453\n"
     ]
    }
   ],
   "source": [
    "start_time=time.time()\n",
    "JumpSearch(a,945)\n",
    "end_time=time.time() - start_time\n",
    "print(end_time)"
   ]
  },
  {
   "cell_type": "code",
   "execution_count": 84,
   "id": "a0248848",
   "metadata": {},
   "outputs": [
    {
     "name": "stdout",
     "output_type": "stream",
     "text": [
      "0.0012099742889404297\n"
     ]
    }
   ],
   "source": [
    "start_time=time.time()\n",
    "FibonacciSearch(a,945)\n",
    "\n",
    "end_time=time.time() - start_time\n",
    "print(end_time)"
   ]
  },
  {
   "cell_type": "code",
   "execution_count": 88,
   "id": "dd49e7d0",
   "metadata": {},
   "outputs": [
    {
     "name": "stdout",
     "output_type": "stream",
     "text": [
      "0.0010225772857666016\n"
     ]
    }
   ],
   "source": [
    "start_time=time.time()\n",
    "ExponentialSearch(a,945)\n",
    "\n",
    "end_time=time.time() - start_time\n",
    "print(end_time)"
   ]
  },
  {
   "cell_type": "code",
   "execution_count": 90,
   "id": "bc431213",
   "metadata": {},
   "outputs": [
    {
     "name": "stdout",
     "output_type": "stream",
     "text": [
      "0.0009655952453613281\n"
     ]
    }
   ],
   "source": [
    "start_time=time.time()\n",
    "InterpolationSearch(a,91)\n",
    "\n",
    "end_time=time.time() - start_time\n",
    "print(end_time)"
   ]
  },
  {
   "cell_type": "markdown",
   "id": "7d64aa43",
   "metadata": {},
   "source": [
    "### Наименьшее время - линейный, наибольшее - фибоначи"
   ]
  },
  {
   "cell_type": "markdown",
   "id": "00251a88",
   "metadata": {},
   "source": [
    "## Задача 3 "
   ]
  },
  {
   "cell_type": "markdown",
   "id": "fbe4b9c6",
   "metadata": {},
   "source": [
    "### Вывод: для поиска значений, расположенных ближе к началу лучше использовать джамп поиск, а для расположенных ближе к концу - линейный поиск"
   ]
  },
  {
   "cell_type": "markdown",
   "id": "b3ed3e64",
   "metadata": {},
   "source": [
    "### Построение первого графика"
   ]
  },
  {
   "cell_type": "code",
   "execution_count": 99,
   "id": "9db658cc",
   "metadata": {},
   "outputs": [
    {
     "data": {
      "image/png": "[encoded data removed]",
      "text/plain": [
       "<Figure size 640x480 with 1 Axes>"
      ]
     },
     "metadata": {},
     "output_type": "display_data"
    }
   ],
   "source": [
    "import matplotlib.pyplot as plt\n",
    "import numpy as np\n",
    "import pandas as pd\n",
    "\n",
    "data = {'situation1':[0.0009984970092773438,0.0010573863983154297,0.0003745555877685547,0.0009970664978027344,0.0009202957153320312, 0.0008642673492431641],\n",
    "        'situation2':[0.0007610321044921875,0.0009975433349609375,0.0009071826934814453,0.0012099742889404297,0.0010225772857666016, 0.0009655952453613281]}\n",
    "df = pd.DataFrame(data)\n",
    "x = np.arange(6)\n",
    "\n",
    "plt.plot(x,df)\n",
    "plt.legend(data, loc=1)\n",
    "plt.show()"
   ]
  },
  {
   "cell_type": "markdown",
   "id": "1c2149a8",
   "metadata": {},
   "source": [
    "### Построение второго графика"
   ]
  },
  {
   "cell_type": "code",
   "execution_count": 103,
   "id": "2caf2f96",
   "metadata": {},
   "outputs": [
    {
     "data": {
      "image/png": "[encoded data removed]",
      "text/plain": [
       "<Figure size 640x480 with 1 Axes>"
      ]
     },
     "metadata": {},
     "output_type": "display_data"
    }
   ],
   "source": [
    "index = np.arange(6)\n",
    "values1 = [0.0009984970092773438,0.0010573863983154297,0.0003745555877685547,0.0009970664978027344,0.0009202957153320312, 0.0008642673492431641]\n",
    "values2 = [0.0007610321044921875,0.0009975433349609375,0.0009071826934814453,0.0012099742889404297,0.0010225772857666016, 0.0009655952453613281]\n",
    "bw = 0.3\n",
    "plt.title('Sravnenie', fontsize=20)\n",
    "plt.bar(index, values1, bw, color='b')\n",
    "plt.bar(index+bw, values2, bw, color='g')\n",
    "plt.xticks(index+1.5*bw,['A','B','C','D','E','F'])\n",
    "plt.show()"
   ]
  },
  {
   "cell_type": "markdown",
   "id": "d6a5ec33",
   "metadata": {},
   "source": [
    "## Задание 4"
   ]
  },
  {
   "cell_type": "code",
   "execution_count": 110,
   "id": "ad3ee7e5",
   "metadata": {},
   "outputs": [
    {
     "name": "stdout",
     "output_type": "stream",
     "text": [
      "[1, 2, 3, 4, 5, 6, 7, 8, 9, 10, 11, 12, 13, 14, 15, 16, 17, 18, 19, 20, 21, 22, 23, 24, 25, 26, 27, 28, 29, 30, 31, 32, 33, 34, 35, 36, 37, 38, 39, 40, 41, 42, 43, 44, 45, 46, 47, 48, 49, 50, 51, 52, 53, 54, 55, 56, 57, 58, 59, 60, 61, 62, 63, 64, 65, 66, 67, 68, 69, 70, 71, 72, 73, 74, 75, 76, 77, 78, 79, 80, 81, 82, 83, 84, 85, 86, 87, 88, 89, 90, 91, 92, 93, 94, 95, 96, 97, 98, 99, 100]\n"
     ]
    }
   ],
   "source": [
    "#Задание массива от 1 до 100:\n",
    "b = list(range(1, 101))\n",
    "print(b)"
   ]
  },
  {
   "cell_type": "code",
   "execution_count": 131,
   "id": "6b9cf742",
   "metadata": {},
   "outputs": [
    {
     "name": "stdout",
     "output_type": "stream",
     "text": [
      "0.0010378360748291016\n"
     ]
    }
   ],
   "source": [
    "#Применение алгоритмов\n",
    "start_time1 =time.time()\n",
    "LinearSearch(b,50)\n",
    "end_time1=time.time() - start_time1\n",
    "print(end_time1)"
   ]
  },
  {
   "cell_type": "code",
   "execution_count": 136,
   "id": "683b5819",
   "metadata": {},
   "outputs": [
    {
     "name": "stdout",
     "output_type": "stream",
     "text": [
      "0.0001823902130126953\n"
     ]
    }
   ],
   "source": [
    "start_time2=time.time()\n",
    "BinarySearch(b,50)\n",
    "end_time2=time.time() - start_time2\n",
    "print(end_time2)"
   ]
  },
  {
   "cell_type": "code",
   "execution_count": 137,
   "id": "7f2cdf4c",
   "metadata": {},
   "outputs": [
    {
     "name": "stdout",
     "output_type": "stream",
     "text": [
      "0.0010085105895996094\n"
     ]
    }
   ],
   "source": [
    "start_time3=time.time()\n",
    "JumpSearch(b,50)\n",
    "end_time3=time.time() - start_time3\n",
    "print(end_time3)"
   ]
  },
  {
   "cell_type": "code",
   "execution_count": 139,
   "id": "fb16448d",
   "metadata": {},
   "outputs": [
    {
     "name": "stdout",
     "output_type": "stream",
     "text": [
      "0.0010340213775634766\n"
     ]
    }
   ],
   "source": [
    "start_time4=time.time()\n",
    "FibonacciSearch(b,50)\n",
    "\n",
    "end_time4=time.time() - start_time4\n",
    "print(end_time4)"
   ]
  },
  {
   "cell_type": "code",
   "execution_count": 142,
   "id": "547030a0",
   "metadata": {},
   "outputs": [
    {
     "name": "stdout",
     "output_type": "stream",
     "text": [
      "0.0009987354278564453\n"
     ]
    }
   ],
   "source": [
    "start_time5=time.time()\n",
    "ExponentialSearch(b,50)\n",
    "end_time5=time.time() - start_time5\n",
    "print(end_time5)"
   ]
  },
  {
   "cell_type": "code",
   "execution_count": 143,
   "id": "cad93253",
   "metadata": {},
   "outputs": [
    {
     "name": "stdout",
     "output_type": "stream",
     "text": [
      "0.0007450580596923828\n"
     ]
    }
   ],
   "source": [
    "start_time6=time.time()\n",
    "InterpolationSearch(b,50)\n",
    "end_time6=time.time() - start_time6\n",
    "print(end_time6)"
   ]
  },
  {
   "cell_type": "markdown",
   "id": "38c87f4c",
   "metadata": {},
   "source": [
    "### Наименьшее время - бинарный, наибольшее линейный "
   ]
  },
  {
   "cell_type": "markdown",
   "id": "05be9f32",
   "metadata": {},
   "source": [
    "## Задание 5"
   ]
  },
  {
   "cell_type": "code",
   "execution_count": 152,
   "id": "70ab5a66",
   "metadata": {},
   "outputs": [
    {
     "name": "stdout",
     "output_type": "stream",
     "text": [
      "[100, 99, 98, 97, 96, 95, 94, 93, 92, 91, 90, 89, 88, 87, 86, 85, 84, 83, 82, 81, 80, 79, 78, 77, 76, 75, 74, 73, 72, 71, 70, 69, 68, 67, 66, 65, 64, 63, 62, 61, 60, 59, 58, 57, 56, 55, 54, 53, 52, 51, 50, 49, 48, 47, 46, 45, 44, 43, 42, 41, 40, 39, 38, 37, 36, 35, 34, 33, 32, 31, 30, 29, 28, 27, 26, 25, 24, 23, 22, 21, 20, 19, 18, 17, 16, 15, 14, 13, 12, 11, 10, 9, 8, 7, 6, 5, 4, 3, 2, 1]\n"
     ]
    }
   ],
   "source": [
    "#Задание массива от 100 до 1:\n",
    "c = list(range(1,101))\n",
    "c.reverse()\n",
    "print(c)"
   ]
  },
  {
   "cell_type": "code",
   "execution_count": 154,
   "id": "a1864ba1",
   "metadata": {},
   "outputs": [
    {
     "name": "stdout",
     "output_type": "stream",
     "text": [
      "0.0009965896606445312\n"
     ]
    }
   ],
   "source": [
    "#Применение алгоритмов\n",
    "start_time1 =time.time()\n",
    "LinearSearch(c,20)\n",
    "end_time1=time.time() - start_time1\n",
    "print(end_time1)"
   ]
  },
  {
   "cell_type": "code",
   "execution_count": 165,
   "id": "c4c995ca",
   "metadata": {},
   "outputs": [
    {
     "name": "stdout",
     "output_type": "stream",
     "text": [
      "0.0008716583251953125\n"
     ]
    }
   ],
   "source": [
    "start_time2=time.time()\n",
    "BinarySearch(c,20)\n",
    "end_time2=time.time() - start_time2\n",
    "print(end_time2)"
   ]
  },
  {
   "cell_type": "code",
   "execution_count": 167,
   "id": "151e33d6",
   "metadata": {},
   "outputs": [
    {
     "name": "stdout",
     "output_type": "stream",
     "text": [
      "0.0005629062652587891\n"
     ]
    }
   ],
   "source": [
    "start_time3=time.time()\n",
    "JumpSearch(c,20)\n",
    "end_time3=time.time() - start_time3\n",
    "print(end_time3)"
   ]
  },
  {
   "cell_type": "code",
   "execution_count": 174,
   "id": "5b71580b",
   "metadata": {},
   "outputs": [
    {
     "name": "stdout",
     "output_type": "stream",
     "text": [
      "0.0009987354278564453\n"
     ]
    }
   ],
   "source": [
    "start_time4=time.time()\n",
    "FibonacciSearch(c,20)\n",
    "end_time4=time.time() - start_time4\n",
    "print(end_time4)"
   ]
  },
  {
   "cell_type": "code",
   "execution_count": 176,
   "id": "358ad122",
   "metadata": {},
   "outputs": [
    {
     "name": "stdout",
     "output_type": "stream",
     "text": [
      "0.0006706714630126953\n"
     ]
    }
   ],
   "source": [
    "start_time5=time.time()\n",
    "ExponentialSearch(c,20)\n",
    "end_time5=time.time() - start_time5\n",
    "print(end_time5)"
   ]
  },
  {
   "cell_type": "code",
   "execution_count": 178,
   "id": "4307d3da",
   "metadata": {},
   "outputs": [
    {
     "name": "stdout",
     "output_type": "stream",
     "text": [
      "0.001027822494506836\n"
     ]
    }
   ],
   "source": [
    "start_time6=time.time()\n",
    "InterpolationSearch(c,20)\n",
    "end_time6=time.time() - start_time6\n",
    "print(end_time6)"
   ]
  },
  {
   "cell_type": "markdown",
   "id": "ccc76d3a",
   "metadata": {},
   "source": [
    "### Наименьшее время - джамп, наибольшее - интерполяция"
   ]
  },
  {
   "cell_type": "markdown",
   "id": "c220945e",
   "metadata": {},
   "source": [
    "# Задние 6"
   ]
  },
  {
   "cell_type": "markdown",
   "id": "bb30fedd",
   "metadata": {},
   "source": [
    "### Вывод: для списка, состоящего из возрастающих значений лучше использовать бинарный поиск, а для списка, состоящего из значений, которые убывают - джамп"
   ]
  },
  {
   "cell_type": "markdown",
   "id": "008c6e73",
   "metadata": {},
   "source": [
    "### Построение первого графика"
   ]
  },
  {
   "cell_type": "code",
   "execution_count": 179,
   "id": "b03cf7c3",
   "metadata": {},
   "outputs": [
    {
     "data": {
      "image/png": "[encoded data removed]",
      "text/plain": [
       "<Figure size 640x480 with 1 Axes>"
      ]
     },
     "metadata": {},
     "output_type": "display_data"
    }
   ],
   "source": [
    "import matplotlib.pyplot as plt\n",
    "import numpy as np\n",
    "import pandas as pd\n",
    "\n",
    "data = {'situation1':[0.0010378360748291016, 0.0001823902130126953, 0.0010085105895996094, 0.0010340213775634766, 0.0009987354278564453, 0.0007450580596923828],\n",
    "        'situation2':[0.0009965896606445312, 0.0008716583251953125, 0.0005629062652587891, 0.0009987354278564453, 0.0006706714630126953, 0.001027822494506836]}\n",
    "df = pd.DataFrame(data)\n",
    "x = np.arange(6)\n",
    "\n",
    "plt.plot(x,df)\n",
    "plt.legend(data, loc=1)\n",
    "plt.show()"
   ]
  },
  {
   "cell_type": "markdown",
   "id": "2a0f0edc",
   "metadata": {},
   "source": [
    "### Построение второго графика"
   ]
  },
  {
   "cell_type": "code",
   "execution_count": 180,
   "id": "dee64236",
   "metadata": {},
   "outputs": [
    {
     "data": {
      "image/png": "[encoded data removed]",
      "text/plain": [
       "<Figure size 640x480 with 1 Axes>"
      ]
     },
     "metadata": {},
     "output_type": "display_data"
    }
   ],
   "source": [
    "index = np.arange(6)\n",
    "values1 = [0.0010378360748291016, 0.0001823902130126953, 0.0010085105895996094, 0.0010340213775634766, 0.0009987354278564453, 0.0007450580596923828]\n",
    "values2 = [0.0009965896606445312, 0.0008716583251953125, 0.0005629062652587891, 0.0009987354278564453, 0.0006706714630126953, 0.001027822494506836]\n",
    "bw = 0.3\n",
    "plt.title('Sravnenie', fontsize=20)\n",
    "plt.bar(index, values1, bw, color='b')\n",
    "plt.bar(index+bw, values2, bw, color='g')\n",
    "plt.xticks(index+1.5*bw,['A','B','C','D','E','F'])\n",
    "plt.show()"
   ]
  },
  {
   "cell_type": "code",
   "execution_count": null,
   "id": "f7635b04",
   "metadata": {},
   "outputs": [],
   "source": []
  }
 ],
 "metadata": {
  "kernelspec": {
   "display_name": "Python 3 (ipykernel)",
   "language": "python",
   "name": "python3"
  },
  "language_info": {
   "codemirror_mode": {
    "name": "ipython",
    "version": 3
   },
   "file_extension": ".py",
   "mimetype": "text/x-python",
   "name": "python",
   "nbconvert_exporter": "python",
   "pygments_lexer": "ipython3",
   "version": "3.11.5"
  }
 },
 "nbformat": 4,
 "nbformat_minor": 5
}
