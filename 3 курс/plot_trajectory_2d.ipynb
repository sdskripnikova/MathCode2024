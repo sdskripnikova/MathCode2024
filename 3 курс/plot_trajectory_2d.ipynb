{
 "cells": [
  {
   "cell_type": "code",
   "execution_count": 2,
   "id": "7d8f0cf8",
   "metadata": {},
   "outputs": [],
   "source": [
    "import numpy as np\n",
    "import matplotlib\n",
    "import matplotlib.pyplot as plt\n",
    "import matplotlib.cm as cm\n",
    "\n",
    "def plot_levels(func, xrange=None, yrange=None, levels=None):\n",
    "    \"\"\"\n",
    "    Plotting the contour lines of the function.\n",
    "\n",
    "    Example:\n",
    "    --------\n",
    "    >> oracle = oracles.QuadraticOracle(np.array([[1.0, 2.0], [2.0, 5.0]]), np.zeros(2))\n",
    "    >> plot_levels(oracle.func)\n",
    "    \"\"\"\n",
    "    if xrange is None:\n",
    "        xrange = [-6, 6]\n",
    "    if yrange is None:\n",
    "        yrange = [-5, 5]\n",
    "    if levels is None:\n",
    "        levels = [0, 0.25, 1, 4, 9, 16, 25]\n",
    "        \n",
    "    x = np.linspace(xrange[0], xrange[1], 100)\n",
    "    y = np.linspace(yrange[0], yrange[1], 100)\n",
    "    X, Y = np.meshgrid(x, y)\n",
    "    Z = np.zeros(X.shape)\n",
    "    for i in range(Z.shape[0]):\n",
    "        for j in range(Z.shape[1]):\n",
    "            Z[i, j] = func(np.array([X[i, j], Y[i, j]]))\n",
    "\n",
    "    CS = plt.contour(X, Y, Z, levels=levels, colors='k', linewidth=4.0)\n",
    "    plt.clabel(CS, inline=1, fontsize=8) \n",
    "    plt.grid()              \n",
    "\n",
    "        \n",
    "def plot_trajectory(func, history, fit_axis=False, label=None):\n",
    "    \"\"\"\n",
    "    Plotting the trajectory of a method. \n",
    "    Use after plot_levels(...).\n",
    "\n",
    "    Example:\n",
    "    --------\n",
    "    >> oracle = oracles.QuadraticOracle(np.array([[1.0, 2.0], [2.0, 5.0]]), np.zeros(2))\n",
    "    >> [x_star, msg, history] = optimization.gradient_descent(oracle, np.array([3.0, 1.5], trace=True)\n",
    "    >> plot_levels(oracle.func)\n",
    "    >> plot_trajectory(oracle.func, history['x'])\n",
    "    \"\"\"\n",
    "    x_values, y_values = zip(*history)\n",
    "    plt.plot(x_values, y_values, '-v', linewidth=5.0, ms=12.0, \n",
    "             alpha=1.0, c='r', label=label)\n",
    "    \n",
    "    # Tries to adapt axis-ranges for the trajectory:\n",
    "    if fit_axis:\n",
    "        xmax, ymax = np.max(x_values), np.max(y_values)\n",
    "        COEF = 1.5\n",
    "        xrange = [-xmax * COEF, xmax * COEF]\n",
    "        yrange = [-ymax * COEF, ymax * COEF]\n",
    "        plt.xlim(xrange)\n",
    "        plt.ylim(yrange)\n",
    "\n"
   ]
  },
  {
   "cell_type": "code",
   "execution_count": null,
   "id": "6f5ac385",
   "metadata": {},
   "outputs": [],
   "source": []
  },
  {
   "cell_type": "code",
   "execution_count": null,
   "id": "b3e3052c",
   "metadata": {},
   "outputs": [],
   "source": []
  }
 ],
 "metadata": {
  "kernelspec": {
   "display_name": "Python 3 (ipykernel)",
   "language": "python",
   "name": "python3"
  },
  "language_info": {
   "codemirror_mode": {
    "name": "ipython",
    "version": 3
   },
   "file_extension": ".py",
   "mimetype": "text/x-python",
   "name": "python",
   "nbconvert_exporter": "python",
   "pygments_lexer": "ipython3",
   "version": "3.11.5"
  }
 },
 "nbformat": 4,
 "nbformat_minor": 5
}
